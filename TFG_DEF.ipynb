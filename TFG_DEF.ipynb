{
  "nbformat": 4,
  "nbformat_minor": 0,
  "metadata": {
    "colab": {
      "provenance": [],
      "authorship_tag": "ABX9TyNuhhyrrZOIK8QQ8SSZVxnh",
      "include_colab_link": true
    },
    "kernelspec": {
      "name": "python3",
      "display_name": "Python 3"
    },
    "language_info": {
      "name": "python"
    }
  },
  "cells": [
    {
      "cell_type": "markdown",
      "metadata": {
        "id": "view-in-github",
        "colab_type": "text"
      },
      "source": [
        "<a href=\"https://colab.research.google.com/github/Hecvv/RANO-metrics/blob/main/TFG_DEF.ipynb\" target=\"_parent\"><img src=\"https://colab.research.google.com/assets/colab-badge.svg\" alt=\"Open In Colab\"/></a>"
      ]
    },
    {
      "cell_type": "code",
      "execution_count": 1,
      "metadata": {
        "colab": {
          "base_uri": "https://localhost:8080/",
          "height": 71
        },
        "id": "a18mSTw-eMIz",
        "outputId": "764a7632-ccab-4377-d146-5bc0ab62d02f"
      },
      "outputs": [
        {
          "output_type": "display_data",
          "data": {
            "text/plain": [
              "<IPython.core.display.HTML object>"
            ],
            "text/html": [
              "\n",
              "     <input type=\"file\" id=\"files-ef308ec4-3a0c-4f7c-aee6-3bedf21e6e1e\" name=\"files[]\" multiple disabled\n",
              "        style=\"border:none\" />\n",
              "     <output id=\"result-ef308ec4-3a0c-4f7c-aee6-3bedf21e6e1e\">\n",
              "      Upload widget is only available when the cell has been executed in the\n",
              "      current browser session. Please rerun this cell to enable.\n",
              "      </output>\n",
              "      <script>// Copyright 2017 Google LLC\n",
              "//\n",
              "// Licensed under the Apache License, Version 2.0 (the \"License\");\n",
              "// you may not use this file except in compliance with the License.\n",
              "// You may obtain a copy of the License at\n",
              "//\n",
              "//      http://www.apache.org/licenses/LICENSE-2.0\n",
              "//\n",
              "// Unless required by applicable law or agreed to in writing, software\n",
              "// distributed under the License is distributed on an \"AS IS\" BASIS,\n",
              "// WITHOUT WARRANTIES OR CONDITIONS OF ANY KIND, either express or implied.\n",
              "// See the License for the specific language governing permissions and\n",
              "// limitations under the License.\n",
              "\n",
              "/**\n",
              " * @fileoverview Helpers for google.colab Python module.\n",
              " */\n",
              "(function(scope) {\n",
              "function span(text, styleAttributes = {}) {\n",
              "  const element = document.createElement('span');\n",
              "  element.textContent = text;\n",
              "  for (const key of Object.keys(styleAttributes)) {\n",
              "    element.style[key] = styleAttributes[key];\n",
              "  }\n",
              "  return element;\n",
              "}\n",
              "\n",
              "// Max number of bytes which will be uploaded at a time.\n",
              "const MAX_PAYLOAD_SIZE = 100 * 1024;\n",
              "\n",
              "function _uploadFiles(inputId, outputId) {\n",
              "  const steps = uploadFilesStep(inputId, outputId);\n",
              "  const outputElement = document.getElementById(outputId);\n",
              "  // Cache steps on the outputElement to make it available for the next call\n",
              "  // to uploadFilesContinue from Python.\n",
              "  outputElement.steps = steps;\n",
              "\n",
              "  return _uploadFilesContinue(outputId);\n",
              "}\n",
              "\n",
              "// This is roughly an async generator (not supported in the browser yet),\n",
              "// where there are multiple asynchronous steps and the Python side is going\n",
              "// to poll for completion of each step.\n",
              "// This uses a Promise to block the python side on completion of each step,\n",
              "// then passes the result of the previous step as the input to the next step.\n",
              "function _uploadFilesContinue(outputId) {\n",
              "  const outputElement = document.getElementById(outputId);\n",
              "  const steps = outputElement.steps;\n",
              "\n",
              "  const next = steps.next(outputElement.lastPromiseValue);\n",
              "  return Promise.resolve(next.value.promise).then((value) => {\n",
              "    // Cache the last promise value to make it available to the next\n",
              "    // step of the generator.\n",
              "    outputElement.lastPromiseValue = value;\n",
              "    return next.value.response;\n",
              "  });\n",
              "}\n",
              "\n",
              "/**\n",
              " * Generator function which is called between each async step of the upload\n",
              " * process.\n",
              " * @param {string} inputId Element ID of the input file picker element.\n",
              " * @param {string} outputId Element ID of the output display.\n",
              " * @return {!Iterable<!Object>} Iterable of next steps.\n",
              " */\n",
              "function* uploadFilesStep(inputId, outputId) {\n",
              "  const inputElement = document.getElementById(inputId);\n",
              "  inputElement.disabled = false;\n",
              "\n",
              "  const outputElement = document.getElementById(outputId);\n",
              "  outputElement.innerHTML = '';\n",
              "\n",
              "  const pickedPromise = new Promise((resolve) => {\n",
              "    inputElement.addEventListener('change', (e) => {\n",
              "      resolve(e.target.files);\n",
              "    });\n",
              "  });\n",
              "\n",
              "  const cancel = document.createElement('button');\n",
              "  inputElement.parentElement.appendChild(cancel);\n",
              "  cancel.textContent = 'Cancel upload';\n",
              "  const cancelPromise = new Promise((resolve) => {\n",
              "    cancel.onclick = () => {\n",
              "      resolve(null);\n",
              "    };\n",
              "  });\n",
              "\n",
              "  // Wait for the user to pick the files.\n",
              "  const files = yield {\n",
              "    promise: Promise.race([pickedPromise, cancelPromise]),\n",
              "    response: {\n",
              "      action: 'starting',\n",
              "    }\n",
              "  };\n",
              "\n",
              "  cancel.remove();\n",
              "\n",
              "  // Disable the input element since further picks are not allowed.\n",
              "  inputElement.disabled = true;\n",
              "\n",
              "  if (!files) {\n",
              "    return {\n",
              "      response: {\n",
              "        action: 'complete',\n",
              "      }\n",
              "    };\n",
              "  }\n",
              "\n",
              "  for (const file of files) {\n",
              "    const li = document.createElement('li');\n",
              "    li.append(span(file.name, {fontWeight: 'bold'}));\n",
              "    li.append(span(\n",
              "        `(${file.type || 'n/a'}) - ${file.size} bytes, ` +\n",
              "        `last modified: ${\n",
              "            file.lastModifiedDate ? file.lastModifiedDate.toLocaleDateString() :\n",
              "                                    'n/a'} - `));\n",
              "    const percent = span('0% done');\n",
              "    li.appendChild(percent);\n",
              "\n",
              "    outputElement.appendChild(li);\n",
              "\n",
              "    const fileDataPromise = new Promise((resolve) => {\n",
              "      const reader = new FileReader();\n",
              "      reader.onload = (e) => {\n",
              "        resolve(e.target.result);\n",
              "      };\n",
              "      reader.readAsArrayBuffer(file);\n",
              "    });\n",
              "    // Wait for the data to be ready.\n",
              "    let fileData = yield {\n",
              "      promise: fileDataPromise,\n",
              "      response: {\n",
              "        action: 'continue',\n",
              "      }\n",
              "    };\n",
              "\n",
              "    // Use a chunked sending to avoid message size limits. See b/62115660.\n",
              "    let position = 0;\n",
              "    do {\n",
              "      const length = Math.min(fileData.byteLength - position, MAX_PAYLOAD_SIZE);\n",
              "      const chunk = new Uint8Array(fileData, position, length);\n",
              "      position += length;\n",
              "\n",
              "      const base64 = btoa(String.fromCharCode.apply(null, chunk));\n",
              "      yield {\n",
              "        response: {\n",
              "          action: 'append',\n",
              "          file: file.name,\n",
              "          data: base64,\n",
              "        },\n",
              "      };\n",
              "\n",
              "      let percentDone = fileData.byteLength === 0 ?\n",
              "          100 :\n",
              "          Math.round((position / fileData.byteLength) * 100);\n",
              "      percent.textContent = `${percentDone}% done`;\n",
              "\n",
              "    } while (position < fileData.byteLength);\n",
              "  }\n",
              "\n",
              "  // All done.\n",
              "  yield {\n",
              "    response: {\n",
              "      action: 'complete',\n",
              "    }\n",
              "  };\n",
              "}\n",
              "\n",
              "scope.google = scope.google || {};\n",
              "scope.google.colab = scope.google.colab || {};\n",
              "scope.google.colab._files = {\n",
              "  _uploadFiles,\n",
              "  _uploadFilesContinue,\n",
              "};\n",
              "})(self);\n",
              "</script> "
            ]
          },
          "metadata": {}
        },
        {
          "output_type": "stream",
          "name": "stdout",
          "text": [
            "Saving enhancing.nii.gz to enhancing.nii.gz\n"
          ]
        }
      ],
      "source": [
        "# Subir los archivos\n",
        "from google.colab import files \n",
        "uploaded = files.upload()"
      ]
    },
    {
      "cell_type": "code",
      "source": [
        "from google.colab import files \n",
        "uploaded = files.upload()"
      ],
      "metadata": {
        "colab": {
          "base_uri": "https://localhost:8080/",
          "height": 71
        },
        "id": "QmsCAzrLZaPe",
        "outputId": "4d27d57b-0f4b-455f-da30-070c408b404a"
      },
      "execution_count": 2,
      "outputs": [
        {
          "output_type": "display_data",
          "data": {
            "text/plain": [
              "<IPython.core.display.HTML object>"
            ],
            "text/html": [
              "\n",
              "     <input type=\"file\" id=\"files-03c0bfae-2360-47ce-b725-e062c84c9e6e\" name=\"files[]\" multiple disabled\n",
              "        style=\"border:none\" />\n",
              "     <output id=\"result-03c0bfae-2360-47ce-b725-e062c84c9e6e\">\n",
              "      Upload widget is only available when the cell has been executed in the\n",
              "      current browser session. Please rerun this cell to enable.\n",
              "      </output>\n",
              "      <script>// Copyright 2017 Google LLC\n",
              "//\n",
              "// Licensed under the Apache License, Version 2.0 (the \"License\");\n",
              "// you may not use this file except in compliance with the License.\n",
              "// You may obtain a copy of the License at\n",
              "//\n",
              "//      http://www.apache.org/licenses/LICENSE-2.0\n",
              "//\n",
              "// Unless required by applicable law or agreed to in writing, software\n",
              "// distributed under the License is distributed on an \"AS IS\" BASIS,\n",
              "// WITHOUT WARRANTIES OR CONDITIONS OF ANY KIND, either express or implied.\n",
              "// See the License for the specific language governing permissions and\n",
              "// limitations under the License.\n",
              "\n",
              "/**\n",
              " * @fileoverview Helpers for google.colab Python module.\n",
              " */\n",
              "(function(scope) {\n",
              "function span(text, styleAttributes = {}) {\n",
              "  const element = document.createElement('span');\n",
              "  element.textContent = text;\n",
              "  for (const key of Object.keys(styleAttributes)) {\n",
              "    element.style[key] = styleAttributes[key];\n",
              "  }\n",
              "  return element;\n",
              "}\n",
              "\n",
              "// Max number of bytes which will be uploaded at a time.\n",
              "const MAX_PAYLOAD_SIZE = 100 * 1024;\n",
              "\n",
              "function _uploadFiles(inputId, outputId) {\n",
              "  const steps = uploadFilesStep(inputId, outputId);\n",
              "  const outputElement = document.getElementById(outputId);\n",
              "  // Cache steps on the outputElement to make it available for the next call\n",
              "  // to uploadFilesContinue from Python.\n",
              "  outputElement.steps = steps;\n",
              "\n",
              "  return _uploadFilesContinue(outputId);\n",
              "}\n",
              "\n",
              "// This is roughly an async generator (not supported in the browser yet),\n",
              "// where there are multiple asynchronous steps and the Python side is going\n",
              "// to poll for completion of each step.\n",
              "// This uses a Promise to block the python side on completion of each step,\n",
              "// then passes the result of the previous step as the input to the next step.\n",
              "function _uploadFilesContinue(outputId) {\n",
              "  const outputElement = document.getElementById(outputId);\n",
              "  const steps = outputElement.steps;\n",
              "\n",
              "  const next = steps.next(outputElement.lastPromiseValue);\n",
              "  return Promise.resolve(next.value.promise).then((value) => {\n",
              "    // Cache the last promise value to make it available to the next\n",
              "    // step of the generator.\n",
              "    outputElement.lastPromiseValue = value;\n",
              "    return next.value.response;\n",
              "  });\n",
              "}\n",
              "\n",
              "/**\n",
              " * Generator function which is called between each async step of the upload\n",
              " * process.\n",
              " * @param {string} inputId Element ID of the input file picker element.\n",
              " * @param {string} outputId Element ID of the output display.\n",
              " * @return {!Iterable<!Object>} Iterable of next steps.\n",
              " */\n",
              "function* uploadFilesStep(inputId, outputId) {\n",
              "  const inputElement = document.getElementById(inputId);\n",
              "  inputElement.disabled = false;\n",
              "\n",
              "  const outputElement = document.getElementById(outputId);\n",
              "  outputElement.innerHTML = '';\n",
              "\n",
              "  const pickedPromise = new Promise((resolve) => {\n",
              "    inputElement.addEventListener('change', (e) => {\n",
              "      resolve(e.target.files);\n",
              "    });\n",
              "  });\n",
              "\n",
              "  const cancel = document.createElement('button');\n",
              "  inputElement.parentElement.appendChild(cancel);\n",
              "  cancel.textContent = 'Cancel upload';\n",
              "  const cancelPromise = new Promise((resolve) => {\n",
              "    cancel.onclick = () => {\n",
              "      resolve(null);\n",
              "    };\n",
              "  });\n",
              "\n",
              "  // Wait for the user to pick the files.\n",
              "  const files = yield {\n",
              "    promise: Promise.race([pickedPromise, cancelPromise]),\n",
              "    response: {\n",
              "      action: 'starting',\n",
              "    }\n",
              "  };\n",
              "\n",
              "  cancel.remove();\n",
              "\n",
              "  // Disable the input element since further picks are not allowed.\n",
              "  inputElement.disabled = true;\n",
              "\n",
              "  if (!files) {\n",
              "    return {\n",
              "      response: {\n",
              "        action: 'complete',\n",
              "      }\n",
              "    };\n",
              "  }\n",
              "\n",
              "  for (const file of files) {\n",
              "    const li = document.createElement('li');\n",
              "    li.append(span(file.name, {fontWeight: 'bold'}));\n",
              "    li.append(span(\n",
              "        `(${file.type || 'n/a'}) - ${file.size} bytes, ` +\n",
              "        `last modified: ${\n",
              "            file.lastModifiedDate ? file.lastModifiedDate.toLocaleDateString() :\n",
              "                                    'n/a'} - `));\n",
              "    const percent = span('0% done');\n",
              "    li.appendChild(percent);\n",
              "\n",
              "    outputElement.appendChild(li);\n",
              "\n",
              "    const fileDataPromise = new Promise((resolve) => {\n",
              "      const reader = new FileReader();\n",
              "      reader.onload = (e) => {\n",
              "        resolve(e.target.result);\n",
              "      };\n",
              "      reader.readAsArrayBuffer(file);\n",
              "    });\n",
              "    // Wait for the data to be ready.\n",
              "    let fileData = yield {\n",
              "      promise: fileDataPromise,\n",
              "      response: {\n",
              "        action: 'continue',\n",
              "      }\n",
              "    };\n",
              "\n",
              "    // Use a chunked sending to avoid message size limits. See b/62115660.\n",
              "    let position = 0;\n",
              "    do {\n",
              "      const length = Math.min(fileData.byteLength - position, MAX_PAYLOAD_SIZE);\n",
              "      const chunk = new Uint8Array(fileData, position, length);\n",
              "      position += length;\n",
              "\n",
              "      const base64 = btoa(String.fromCharCode.apply(null, chunk));\n",
              "      yield {\n",
              "        response: {\n",
              "          action: 'append',\n",
              "          file: file.name,\n",
              "          data: base64,\n",
              "        },\n",
              "      };\n",
              "\n",
              "      let percentDone = fileData.byteLength === 0 ?\n",
              "          100 :\n",
              "          Math.round((position / fileData.byteLength) * 100);\n",
              "      percent.textContent = `${percentDone}% done`;\n",
              "\n",
              "    } while (position < fileData.byteLength);\n",
              "  }\n",
              "\n",
              "  // All done.\n",
              "  yield {\n",
              "    response: {\n",
              "      action: 'complete',\n",
              "    }\n",
              "  };\n",
              "}\n",
              "\n",
              "scope.google = scope.google || {};\n",
              "scope.google.colab = scope.google.colab || {};\n",
              "scope.google.colab._files = {\n",
              "  _uploadFiles,\n",
              "  _uploadFilesContinue,\n",
              "};\n",
              "})(self);\n",
              "</script> "
            ]
          },
          "metadata": {}
        },
        {
          "output_type": "stream",
          "name": "stdout",
          "text": [
            "Saving T1C.nii.gz to T1C.nii.gz\n"
          ]
        }
      ]
    },
    {
      "cell_type": "code",
      "source": [
        "# Leer las imágenes\n",
        "import nibabel as nib\n",
        "I = nib.load('enhancing.nii.gz') # read image\n",
        "T = nib.load('T1C.nii.gz') # read image"
      ],
      "metadata": {
        "id": "a7Fnl2jjeV8N"
      },
      "execution_count": 3,
      "outputs": []
    },
    {
      "cell_type": "code",
      "source": [
        "#Acceder a la data en el objeto NIfTI\n",
        "I_data = I.get_fdata()\n",
        "type(I_data)\n",
        "I_data\n",
        "I_data.shape"
      ],
      "metadata": {
        "colab": {
          "base_uri": "https://localhost:8080/"
        },
        "id": "CWvUlxh6eYEi",
        "outputId": "12f84949-9850-4551-b1bd-1ff307a284a8"
      },
      "execution_count": 4,
      "outputs": [
        {
          "output_type": "execute_result",
          "data": {
            "text/plain": [
              "(240, 240, 155)"
            ]
          },
          "metadata": {},
          "execution_count": 4
        }
      ]
    },
    {
      "cell_type": "code",
      "source": [
        "T_data = T.get_fdata()\n",
        "type(T_data)\n",
        "T_data\n",
        "T_data.shape"
      ],
      "metadata": {
        "colab": {
          "base_uri": "https://localhost:8080/"
        },
        "id": "RsBd9PE3ZwlP",
        "outputId": "1edcb67c-35da-4460-f53d-5d17d5ef0d88"
      },
      "execution_count": 5,
      "outputs": [
        {
          "output_type": "execute_result",
          "data": {
            "text/plain": [
              "(240, 240, 155)"
            ]
          },
          "metadata": {},
          "execution_count": 5
        }
      ]
    },
    {
      "cell_type": "code",
      "source": [
        "#Primera vista desde MRIcroGL, axial -XxYx114mm (XxYx114)\n",
        "import matplotlib.pyplot as plt\n",
        "import scipy.ndimage as ndi\n",
        "plt.imshow(ndi.rotate(I_data[:,:,114],-90), cmap='bone')\n",
        "plt.show()"
      ],
      "metadata": {
        "colab": {
          "base_uri": "https://localhost:8080/",
          "height": 435
        },
        "id": "xDSj3JQrefla",
        "outputId": "25476d09-4a3c-45d6-9537-2d36f368aa41"
      },
      "execution_count": 25,
      "outputs": [
        {
          "output_type": "display_data",
          "data": {
            "text/plain": [
              "<Figure size 640x480 with 1 Axes>"
            ],
            "image/png": "[encoded data removed]"
          },
          "metadata": {}
        }
      ]
    },
    {
      "cell_type": "code",
      "source": [
        "#Visualización de todas las slices del plano axial\n",
        "import matplotlib.pyplot as plt\n",
        "import scipy.ndimage as ndi\n",
        "fig_rows = 20\n",
        "fig_cols = 8\n",
        "n_subplots = 155\n",
        "n_slice = I_data.shape[2]\n",
        "step_size = n_slice // n_subplots\n",
        "plot_range = n_subplots * step_size\n",
        "start_stop = int((n_slice - plot_range) / 2)\n",
        "\n",
        "fig, axs = plt.subplots(fig_rows, fig_cols, figsize=[10, 10])\n",
        "\n",
        "for idx, img in enumerate(range(start_stop, plot_range, step_size)):\n",
        "    axs.flat[idx].imshow(ndi.rotate(I_data[:, :, img], 90), cmap='gray')\n",
        "    axs.flat[idx].axis('off')\n",
        "plt.tight_layout()\n",
        "plt.show()"
      ],
      "metadata": {
        "colab": {
          "base_uri": "https://localhost:8080/",
          "height": 1000
        },
        "id": "RSjJpUCaeh5I",
        "outputId": "bba223ad-6052-4884-f64c-eb75b21d7611"
      },
      "execution_count": 6,
      "outputs": [
        {
          "output_type": "display_data",
          "data": {
            "text/plain": [
              "<Figure size 1000x1000 with 160 Axes>"
            ],
            "image/png": "[encoded data removed]"
          },
          "metadata": {}
        }
      ]
    },
    {
      "cell_type": "code",
      "source": [
        "# Obtención del diámetro máximo sin pasar por 0\n",
        "# Para escoger la slice con la distancia máxima se pueden visualizar todas las slices con el código de visualización anterior y guiarte a ojo de las que podrían ser\n",
        "# Luego vas probando una por una entre esas.\n",
        "import numpy as np\n",
        "\n",
        "# Obtener la slice deseada\n",
        "slice_index = 115  # Índice de la slice deseada\n",
        "slice_data = I_data[:, :, slice_index]\n",
        "\n",
        "# Obtener los voxels que no pasan por 0\n",
        "nonzero_voxels = np.nonzero(slice_data)\n",
        "\n",
        "# Calcular la distancia máxima entre los voxels no nulos\n",
        "max_distance1 = -np.inf\n",
        "max_distance_vector1 = None\n",
        "for i in range(len(nonzero_voxels[0])):\n",
        "    for j in range(i+1, len(nonzero_voxels[0])):\n",
        "        distance = np.sqrt((nonzero_voxels[0][i] - nonzero_voxels[0][j])**2 + (nonzero_voxels[1][i] - nonzero_voxels[1][j])**2)\n",
        "        # Comprobar si algún voxel en la distancia calculada pasa por cero\n",
        "        if np.any(slice_data[min(nonzero_voxels[0][i], nonzero_voxels[0][j]):max(nonzero_voxels[0][i], nonzero_voxels[0][j])+1,\n",
        "                        min(nonzero_voxels[1][i], nonzero_voxels[1][j]):max(nonzero_voxels[1][i], nonzero_voxels[1][j])+1] == 0):\n",
        "            continue\n",
        "        if distance > max_distance1:\n",
        "            max_distance1 = distance\n",
        "            max_distance_vector1 = [nonzero_voxels[0][i], nonzero_voxels[1][i]], [nonzero_voxels[0][j], nonzero_voxels[1][j]]\n",
        "\n",
        "# Imprimir la distancia máxima obtenida\n",
        "print(\"Distancia máxima entre voxels que no pasan por 0:\", max_distance1)\n",
        "print(\"Voxels que forman la distancia máxima:\", max_distance_vector1)\n",
        "\n",
        "import matplotlib.pyplot as plt\n",
        "\n",
        "# Dibujar la imagen de la slice\n",
        "plt.imshow(slice_data, cmap='gray')\n",
        "\n",
        "# Obtener las coordenadas de los voxels que forman la línea\n",
        "x1, y1 = max_distance_vector1[0]\n",
        "x2, y2 = max_distance_vector1[1]\n",
        "\n",
        "# Dibujar la línea entre los dos voxels\n",
        "plt.plot([y1, y2], [x1, x2], 'r')\n",
        "\n",
        "# Configurar los ejes y el título de la figura\n",
        "plt.axis('off')\n",
        "plt.title('Distancia Máxima y Línea entre Voxels')\n",
        "\n",
        "# Mostrar la figura\n",
        "plt.show()\n",
        "\n",
        "\n",
        "# Obtener la resolución espacial en milímetros\n",
        "resolucion = I.header.get_zooms()  # Se obtienen los valores de las dimensiones x, y, z\n",
        "print(\"Resolución espacial:\", resolucion)\n",
        "\n",
        "# Definir una distancia en voxels\n",
        "distancia_voxels1 = max_distance1 \n",
        "\n",
        "# Convertir la distancia de voxels a milímetros\n",
        "distancia_milimetros = distancia_voxels1 * resolucion[2]\n",
        "\n",
        "print(\"Distancia en milímetros:\", distancia_milimetros)"
      ],
      "metadata": {
        "colab": {
          "base_uri": "https://localhost:8080/",
          "height": 498
        },
        "id": "P4Ge6g7IUfRX",
        "outputId": "cd28615f-34e6-4f52-fc4c-a62790c0a03f"
      },
      "execution_count": 6,
      "outputs": [
        {
          "output_type": "stream",
          "name": "stdout",
          "text": [
            "Distancia máxima entre voxels que no pasan por 0: 26.0\n",
            "Voxels que forman la distancia máxima: ([158, 76], [158, 102])\n"
          ]
        },
        {
          "output_type": "display_data",
          "data": {
            "text/plain": [
              "<Figure size 640x480 with 1 Axes>"
            ],
            "image/png": "[encoded data removed]"
          },
          "metadata": {}
        },
        {
          "output_type": "stream",
          "name": "stdout",
          "text": [
            "Resolución espacial: (1.0, 1.0, 1.0)\n",
            "Distancia en milímetros: 26.0\n"
          ]
        }
      ]
    },
    {
      "cell_type": "code",
      "source": [
        "# Para escoger la slice con la distancia máxima se pueden visualizar todas las slices con el código de visualización anterior y guiarte a ojo de las que podrían ser\n",
        "# Luego vas probando una por una entre esas.\n",
        "import nibabel as nib\n",
        "import numpy as np\n",
        "\n",
        "# Obtener la slice deseada\n",
        "slice_index = 115  # Índice de la slice deseada\n",
        "slice_data = I_data[:, :, slice_index]\n",
        "\n",
        "# Obtener los voxels que no pasan por 0\n",
        "nonzero_voxels = np.nonzero(slice_data)\n",
        "\n",
        "# Calcular la distancia máxima entre los voxels no nulos\n",
        "max_distance2 = -np.inf\n",
        "max_distance_vector2 = None\n",
        "for i in range(len(nonzero_voxels[0])):\n",
        "    for j in range(i+1, len(nonzero_voxels[0])):\n",
        "        distance = np.sqrt((nonzero_voxels[0][i] - nonzero_voxels[0][j])**2 + (nonzero_voxels[1][i] - nonzero_voxels[1][j])**2)\n",
        "        if distance > max_distance2:\n",
        "            max_distance2 = distance\n",
        "            max_distance_vector2 = [nonzero_voxels[0][i], nonzero_voxels[1][i]], [nonzero_voxels[0][j], nonzero_voxels[1][j]]\n",
        "# Imprimir la distancia máxima obtenida\n",
        "print(\"Distancia máxima entre voxels que no pasan por 0:\", max_distance2)\n",
        "print(\"Voxels que forman la distancia máxima:\", max_distance_vector2)\n",
        "\n",
        "\n",
        "import matplotlib.pyplot as plt\n",
        "\n",
        "# Dibujar la imagen de la slice\n",
        "plt.imshow(slice_data, cmap='gray')\n",
        "\n",
        "# Obtener las coordenadas de los voxels que forman la línea\n",
        "x1, y1 = max_distance_vector2[0]\n",
        "x2, y2 = max_distance_vector2[1]\n",
        "\n",
        "# Dibujar la línea entre los dos voxels\n",
        "plt.plot([y1, y2], [x1, x2], 'r')\n",
        "\n",
        "# Configurar los ejes y el título de la figura\n",
        "plt.axis('off')\n",
        "plt.title('Distancia Máxima y Línea entre Voxels')\n",
        "\n",
        "# Mostrar la figura\n",
        "plt.show()\n",
        "\n",
        "\n",
        "# Obtener la resolución espacial en milímetros\n",
        "resolucion = I.header.get_zooms()  # Se obtienen los valores de las dimensiones x, y, z\n",
        "print(\"Resolución espacial:\", resolucion)\n",
        "\n",
        "# Definir una distancia en voxels\n",
        "distancia_voxels2 = max_distance2 \n",
        "\n",
        "# Convertir la distancia de voxels a milímetros\n",
        "distancia_milimetros = distancia_voxels2 * resolucion[2]\n",
        "\n",
        "print(\"Distancia en milímetros:\", distancia_milimetros)\n"
      ],
      "metadata": {
        "colab": {
          "base_uri": "https://localhost:8080/",
          "height": 498
        },
        "id": "y0o3Ud7EbW1p",
        "outputId": "fbe69ee4-04fe-43f0-a83e-19ea7533e536"
      },
      "execution_count": 7,
      "outputs": [
        {
          "output_type": "stream",
          "name": "stdout",
          "text": [
            "Distancia máxima entre voxels que no pasan por 0: 35.73513677041127\n",
            "Voxels que forman la distancia máxima: ([144, 106], [155, 72])\n"
          ]
        },
        {
          "output_type": "display_data",
          "data": {
            "text/plain": [
              "<Figure size 640x480 with 1 Axes>"
            ],
            "image/png": "[encoded data removed]"
          },
          "metadata": {}
        },
        {
          "output_type": "stream",
          "name": "stdout",
          "text": [
            "Resolución espacial: (1.0, 1.0, 1.0)\n",
            "Distancia en milímetros: 35.73513677041127\n"
          ]
        }
      ]
    },
    {
      "cell_type": "code",
      "source": [
        "# Superposición con T1C\n",
        "import matplotlib.pyplot as plt\n",
        "\n",
        "# Dibujar la imagen de la slice\n",
        "slice_index1 = 115\n",
        "plt.imshow(T.get_fdata()[:, :, slice_index1], cmap='gray')\n",
        "\n",
        "# Obtener las coordenadas de los voxels que forman la línea\n",
        "x1, y1 = max_distance_vector2[0]\n",
        "x2, y2 = max_distance_vector2[1]\n",
        "z1, w1 = max_distance_vector1[0]\n",
        "z2, w2 = max_distance_vector1[1]\n",
        "\n",
        "# Dibujar la línea entre los dos voxels\n",
        "plt.plot([y1, y2], [x1, x2], 'r')\n",
        "plt.plot([w1, w2], [z1, z2], 'b')\n",
        "\n",
        "# Configurar los ejes y el título de la figura\n",
        "plt.axis('off')\n",
        "plt.title('Distancia Máxima y Línea entre Voxels')\n",
        "\n",
        "# Mostrar la figura\n",
        "plt.show()\n"
      ],
      "metadata": {
        "colab": {
          "base_uri": "https://localhost:8080/",
          "height": 429
        },
        "id": "43lgGNIwZ69A",
        "outputId": "1fbef79f-55ee-426d-acc7-0babb1675fbd"
      },
      "execution_count": 12,
      "outputs": [
        {
          "output_type": "display_data",
          "data": {
            "text/plain": [
              "<Figure size 640x480 with 1 Axes>"
            ],
            "image/png": "[encoded data removed]"
          },
          "metadata": {}
        }
      ]
    },
    {
      "cell_type": "code",
      "source": [
        "from google.colab import files \n",
        "uploaded = files.upload()"
      ],
      "metadata": {
        "colab": {
          "base_uri": "https://localhost:8080/",
          "height": 71
        },
        "id": "tz3KAc8jEUuy",
        "outputId": "8bc8339b-f2d9-45fd-d179-5a04f38ad80e"
      },
      "execution_count": 13,
      "outputs": [
        {
          "output_type": "display_data",
          "data": {
            "text/plain": [
              "<IPython.core.display.HTML object>"
            ],
            "text/html": [
              "\n",
              "     <input type=\"file\" id=\"files-5d613acf-7570-4ee7-b9df-c9dd363c3831\" name=\"files[]\" multiple disabled\n",
              "        style=\"border:none\" />\n",
              "     <output id=\"result-5d613acf-7570-4ee7-b9df-c9dd363c3831\">\n",
              "      Upload widget is only available when the cell has been executed in the\n",
              "      current browser session. Please rerun this cell to enable.\n",
              "      </output>\n",
              "      <script>// Copyright 2017 Google LLC\n",
              "//\n",
              "// Licensed under the Apache License, Version 2.0 (the \"License\");\n",
              "// you may not use this file except in compliance with the License.\n",
              "// You may obtain a copy of the License at\n",
              "//\n",
              "//      http://www.apache.org/licenses/LICENSE-2.0\n",
              "//\n",
              "// Unless required by applicable law or agreed to in writing, software\n",
              "// distributed under the License is distributed on an \"AS IS\" BASIS,\n",
              "// WITHOUT WARRANTIES OR CONDITIONS OF ANY KIND, either express or implied.\n",
              "// See the License for the specific language governing permissions and\n",
              "// limitations under the License.\n",
              "\n",
              "/**\n",
              " * @fileoverview Helpers for google.colab Python module.\n",
              " */\n",
              "(function(scope) {\n",
              "function span(text, styleAttributes = {}) {\n",
              "  const element = document.createElement('span');\n",
              "  element.textContent = text;\n",
              "  for (const key of Object.keys(styleAttributes)) {\n",
              "    element.style[key] = styleAttributes[key];\n",
              "  }\n",
              "  return element;\n",
              "}\n",
              "\n",
              "// Max number of bytes which will be uploaded at a time.\n",
              "const MAX_PAYLOAD_SIZE = 100 * 1024;\n",
              "\n",
              "function _uploadFiles(inputId, outputId) {\n",
              "  const steps = uploadFilesStep(inputId, outputId);\n",
              "  const outputElement = document.getElementById(outputId);\n",
              "  // Cache steps on the outputElement to make it available for the next call\n",
              "  // to uploadFilesContinue from Python.\n",
              "  outputElement.steps = steps;\n",
              "\n",
              "  return _uploadFilesContinue(outputId);\n",
              "}\n",
              "\n",
              "// This is roughly an async generator (not supported in the browser yet),\n",
              "// where there are multiple asynchronous steps and the Python side is going\n",
              "// to poll for completion of each step.\n",
              "// This uses a Promise to block the python side on completion of each step,\n",
              "// then passes the result of the previous step as the input to the next step.\n",
              "function _uploadFilesContinue(outputId) {\n",
              "  const outputElement = document.getElementById(outputId);\n",
              "  const steps = outputElement.steps;\n",
              "\n",
              "  const next = steps.next(outputElement.lastPromiseValue);\n",
              "  return Promise.resolve(next.value.promise).then((value) => {\n",
              "    // Cache the last promise value to make it available to the next\n",
              "    // step of the generator.\n",
              "    outputElement.lastPromiseValue = value;\n",
              "    return next.value.response;\n",
              "  });\n",
              "}\n",
              "\n",
              "/**\n",
              " * Generator function which is called between each async step of the upload\n",
              " * process.\n",
              " * @param {string} inputId Element ID of the input file picker element.\n",
              " * @param {string} outputId Element ID of the output display.\n",
              " * @return {!Iterable<!Object>} Iterable of next steps.\n",
              " */\n",
              "function* uploadFilesStep(inputId, outputId) {\n",
              "  const inputElement = document.getElementById(inputId);\n",
              "  inputElement.disabled = false;\n",
              "\n",
              "  const outputElement = document.getElementById(outputId);\n",
              "  outputElement.innerHTML = '';\n",
              "\n",
              "  const pickedPromise = new Promise((resolve) => {\n",
              "    inputElement.addEventListener('change', (e) => {\n",
              "      resolve(e.target.files);\n",
              "    });\n",
              "  });\n",
              "\n",
              "  const cancel = document.createElement('button');\n",
              "  inputElement.parentElement.appendChild(cancel);\n",
              "  cancel.textContent = 'Cancel upload';\n",
              "  const cancelPromise = new Promise((resolve) => {\n",
              "    cancel.onclick = () => {\n",
              "      resolve(null);\n",
              "    };\n",
              "  });\n",
              "\n",
              "  // Wait for the user to pick the files.\n",
              "  const files = yield {\n",
              "    promise: Promise.race([pickedPromise, cancelPromise]),\n",
              "    response: {\n",
              "      action: 'starting',\n",
              "    }\n",
              "  };\n",
              "\n",
              "  cancel.remove();\n",
              "\n",
              "  // Disable the input element since further picks are not allowed.\n",
              "  inputElement.disabled = true;\n",
              "\n",
              "  if (!files) {\n",
              "    return {\n",
              "      response: {\n",
              "        action: 'complete',\n",
              "      }\n",
              "    };\n",
              "  }\n",
              "\n",
              "  for (const file of files) {\n",
              "    const li = document.createElement('li');\n",
              "    li.append(span(file.name, {fontWeight: 'bold'}));\n",
              "    li.append(span(\n",
              "        `(${file.type || 'n/a'}) - ${file.size} bytes, ` +\n",
              "        `last modified: ${\n",
              "            file.lastModifiedDate ? file.lastModifiedDate.toLocaleDateString() :\n",
              "                                    'n/a'} - `));\n",
              "    const percent = span('0% done');\n",
              "    li.appendChild(percent);\n",
              "\n",
              "    outputElement.appendChild(li);\n",
              "\n",
              "    const fileDataPromise = new Promise((resolve) => {\n",
              "      const reader = new FileReader();\n",
              "      reader.onload = (e) => {\n",
              "        resolve(e.target.result);\n",
              "      };\n",
              "      reader.readAsArrayBuffer(file);\n",
              "    });\n",
              "    // Wait for the data to be ready.\n",
              "    let fileData = yield {\n",
              "      promise: fileDataPromise,\n",
              "      response: {\n",
              "        action: 'continue',\n",
              "      }\n",
              "    };\n",
              "\n",
              "    // Use a chunked sending to avoid message size limits. See b/62115660.\n",
              "    let position = 0;\n",
              "    do {\n",
              "      const length = Math.min(fileData.byteLength - position, MAX_PAYLOAD_SIZE);\n",
              "      const chunk = new Uint8Array(fileData, position, length);\n",
              "      position += length;\n",
              "\n",
              "      const base64 = btoa(String.fromCharCode.apply(null, chunk));\n",
              "      yield {\n",
              "        response: {\n",
              "          action: 'append',\n",
              "          file: file.name,\n",
              "          data: base64,\n",
              "        },\n",
              "      };\n",
              "\n",
              "      let percentDone = fileData.byteLength === 0 ?\n",
              "          100 :\n",
              "          Math.round((position / fileData.byteLength) * 100);\n",
              "      percent.textContent = `${percentDone}% done`;\n",
              "\n",
              "    } while (position < fileData.byteLength);\n",
              "  }\n",
              "\n",
              "  // All done.\n",
              "  yield {\n",
              "    response: {\n",
              "      action: 'complete',\n",
              "    }\n",
              "  };\n",
              "}\n",
              "\n",
              "scope.google = scope.google || {};\n",
              "scope.google.colab = scope.google.colab || {};\n",
              "scope.google.colab._files = {\n",
              "  _uploadFiles,\n",
              "  _uploadFilesContinue,\n",
              "};\n",
              "})(self);\n",
              "</script> "
            ]
          },
          "metadata": {}
        },
        {
          "output_type": "stream",
          "name": "stdout",
          "text": [
            "Saving OUTPUT_FILE.nii.gz to OUTPUT_FILE.nii.gz\n"
          ]
        }
      ]
    },
    {
      "cell_type": "code",
      "source": [
        "from google.colab import files \n",
        "uploaded = files.upload()"
      ],
      "metadata": {
        "colab": {
          "base_uri": "https://localhost:8080/",
          "height": 71
        },
        "id": "8_0yT6mEc1jB",
        "outputId": "3df17554-a58a-47cf-9d8c-0a314a506265"
      },
      "execution_count": 19,
      "outputs": [
        {
          "output_type": "display_data",
          "data": {
            "text/plain": [
              "<IPython.core.display.HTML object>"
            ],
            "text/html": [
              "\n",
              "     <input type=\"file\" id=\"files-3c8eabbb-72db-4da7-8bbb-f91418669f7c\" name=\"files[]\" multiple disabled\n",
              "        style=\"border:none\" />\n",
              "     <output id=\"result-3c8eabbb-72db-4da7-8bbb-f91418669f7c\">\n",
              "      Upload widget is only available when the cell has been executed in the\n",
              "      current browser session. Please rerun this cell to enable.\n",
              "      </output>\n",
              "      <script>// Copyright 2017 Google LLC\n",
              "//\n",
              "// Licensed under the Apache License, Version 2.0 (the \"License\");\n",
              "// you may not use this file except in compliance with the License.\n",
              "// You may obtain a copy of the License at\n",
              "//\n",
              "//      http://www.apache.org/licenses/LICENSE-2.0\n",
              "//\n",
              "// Unless required by applicable law or agreed to in writing, software\n",
              "// distributed under the License is distributed on an \"AS IS\" BASIS,\n",
              "// WITHOUT WARRANTIES OR CONDITIONS OF ANY KIND, either express or implied.\n",
              "// See the License for the specific language governing permissions and\n",
              "// limitations under the License.\n",
              "\n",
              "/**\n",
              " * @fileoverview Helpers for google.colab Python module.\n",
              " */\n",
              "(function(scope) {\n",
              "function span(text, styleAttributes = {}) {\n",
              "  const element = document.createElement('span');\n",
              "  element.textContent = text;\n",
              "  for (const key of Object.keys(styleAttributes)) {\n",
              "    element.style[key] = styleAttributes[key];\n",
              "  }\n",
              "  return element;\n",
              "}\n",
              "\n",
              "// Max number of bytes which will be uploaded at a time.\n",
              "const MAX_PAYLOAD_SIZE = 100 * 1024;\n",
              "\n",
              "function _uploadFiles(inputId, outputId) {\n",
              "  const steps = uploadFilesStep(inputId, outputId);\n",
              "  const outputElement = document.getElementById(outputId);\n",
              "  // Cache steps on the outputElement to make it available for the next call\n",
              "  // to uploadFilesContinue from Python.\n",
              "  outputElement.steps = steps;\n",
              "\n",
              "  return _uploadFilesContinue(outputId);\n",
              "}\n",
              "\n",
              "// This is roughly an async generator (not supported in the browser yet),\n",
              "// where there are multiple asynchronous steps and the Python side is going\n",
              "// to poll for completion of each step.\n",
              "// This uses a Promise to block the python side on completion of each step,\n",
              "// then passes the result of the previous step as the input to the next step.\n",
              "function _uploadFilesContinue(outputId) {\n",
              "  const outputElement = document.getElementById(outputId);\n",
              "  const steps = outputElement.steps;\n",
              "\n",
              "  const next = steps.next(outputElement.lastPromiseValue);\n",
              "  return Promise.resolve(next.value.promise).then((value) => {\n",
              "    // Cache the last promise value to make it available to the next\n",
              "    // step of the generator.\n",
              "    outputElement.lastPromiseValue = value;\n",
              "    return next.value.response;\n",
              "  });\n",
              "}\n",
              "\n",
              "/**\n",
              " * Generator function which is called between each async step of the upload\n",
              " * process.\n",
              " * @param {string} inputId Element ID of the input file picker element.\n",
              " * @param {string} outputId Element ID of the output display.\n",
              " * @return {!Iterable<!Object>} Iterable of next steps.\n",
              " */\n",
              "function* uploadFilesStep(inputId, outputId) {\n",
              "  const inputElement = document.getElementById(inputId);\n",
              "  inputElement.disabled = false;\n",
              "\n",
              "  const outputElement = document.getElementById(outputId);\n",
              "  outputElement.innerHTML = '';\n",
              "\n",
              "  const pickedPromise = new Promise((resolve) => {\n",
              "    inputElement.addEventListener('change', (e) => {\n",
              "      resolve(e.target.files);\n",
              "    });\n",
              "  });\n",
              "\n",
              "  const cancel = document.createElement('button');\n",
              "  inputElement.parentElement.appendChild(cancel);\n",
              "  cancel.textContent = 'Cancel upload';\n",
              "  const cancelPromise = new Promise((resolve) => {\n",
              "    cancel.onclick = () => {\n",
              "      resolve(null);\n",
              "    };\n",
              "  });\n",
              "\n",
              "  // Wait for the user to pick the files.\n",
              "  const files = yield {\n",
              "    promise: Promise.race([pickedPromise, cancelPromise]),\n",
              "    response: {\n",
              "      action: 'starting',\n",
              "    }\n",
              "  };\n",
              "\n",
              "  cancel.remove();\n",
              "\n",
              "  // Disable the input element since further picks are not allowed.\n",
              "  inputElement.disabled = true;\n",
              "\n",
              "  if (!files) {\n",
              "    return {\n",
              "      response: {\n",
              "        action: 'complete',\n",
              "      }\n",
              "    };\n",
              "  }\n",
              "\n",
              "  for (const file of files) {\n",
              "    const li = document.createElement('li');\n",
              "    li.append(span(file.name, {fontWeight: 'bold'}));\n",
              "    li.append(span(\n",
              "        `(${file.type || 'n/a'}) - ${file.size} bytes, ` +\n",
              "        `last modified: ${\n",
              "            file.lastModifiedDate ? file.lastModifiedDate.toLocaleDateString() :\n",
              "                                    'n/a'} - `));\n",
              "    const percent = span('0% done');\n",
              "    li.appendChild(percent);\n",
              "\n",
              "    outputElement.appendChild(li);\n",
              "\n",
              "    const fileDataPromise = new Promise((resolve) => {\n",
              "      const reader = new FileReader();\n",
              "      reader.onload = (e) => {\n",
              "        resolve(e.target.result);\n",
              "      };\n",
              "      reader.readAsArrayBuffer(file);\n",
              "    });\n",
              "    // Wait for the data to be ready.\n",
              "    let fileData = yield {\n",
              "      promise: fileDataPromise,\n",
              "      response: {\n",
              "        action: 'continue',\n",
              "      }\n",
              "    };\n",
              "\n",
              "    // Use a chunked sending to avoid message size limits. See b/62115660.\n",
              "    let position = 0;\n",
              "    do {\n",
              "      const length = Math.min(fileData.byteLength - position, MAX_PAYLOAD_SIZE);\n",
              "      const chunk = new Uint8Array(fileData, position, length);\n",
              "      position += length;\n",
              "\n",
              "      const base64 = btoa(String.fromCharCode.apply(null, chunk));\n",
              "      yield {\n",
              "        response: {\n",
              "          action: 'append',\n",
              "          file: file.name,\n",
              "          data: base64,\n",
              "        },\n",
              "      };\n",
              "\n",
              "      let percentDone = fileData.byteLength === 0 ?\n",
              "          100 :\n",
              "          Math.round((position / fileData.byteLength) * 100);\n",
              "      percent.textContent = `${percentDone}% done`;\n",
              "\n",
              "    } while (position < fileData.byteLength);\n",
              "  }\n",
              "\n",
              "  // All done.\n",
              "  yield {\n",
              "    response: {\n",
              "      action: 'complete',\n",
              "    }\n",
              "  };\n",
              "}\n",
              "\n",
              "scope.google = scope.google || {};\n",
              "scope.google.colab = scope.google.colab || {};\n",
              "scope.google.colab._files = {\n",
              "  _uploadFiles,\n",
              "  _uploadFilesContinue,\n",
              "};\n",
              "})(self);\n",
              "</script> "
            ]
          },
          "metadata": {}
        },
        {
          "output_type": "stream",
          "name": "stdout",
          "text": [
            "Saving FLAIR.nii.gz to FLAIR.nii.gz\n"
          ]
        }
      ]
    },
    {
      "cell_type": "code",
      "source": [
        "import nibabel as nib\n",
        "P = nib.load('OUTPUT_FILE.nii.gz') # read image\n",
        "F = nib.load('FLAIR.nii.gz') # read image"
      ],
      "metadata": {
        "id": "qpH4Gk8sEaHs"
      },
      "execution_count": 20,
      "outputs": []
    },
    {
      "cell_type": "code",
      "source": [
        "#Acces data in the NIfTI object\n",
        "P_data = P.get_fdata()\n",
        "type(P_data)\n",
        "P_data\n",
        "P_data.shape"
      ],
      "metadata": {
        "colab": {
          "base_uri": "https://localhost:8080/"
        },
        "id": "ANEq-LpSEgSL",
        "outputId": "0839697e-55f8-47e0-d2bf-f53903a613d4"
      },
      "execution_count": 21,
      "outputs": [
        {
          "output_type": "execute_result",
          "data": {
            "text/plain": [
              "(240, 240, 155)"
            ]
          },
          "metadata": {},
          "execution_count": 21
        }
      ]
    },
    {
      "cell_type": "code",
      "source": [
        "F_data = F.get_fdata()\n",
        "type(F_data)\n",
        "F_data\n",
        "F_data.shape"
      ],
      "metadata": {
        "colab": {
          "base_uri": "https://localhost:8080/"
        },
        "id": "01piajdAdGyN",
        "outputId": "f880e4b4-f9a9-43d1-f8db-1c286fc79c4d"
      },
      "execution_count": 22,
      "outputs": [
        {
          "output_type": "execute_result",
          "data": {
            "text/plain": [
              "(240, 240, 155)"
            ]
          },
          "metadata": {},
          "execution_count": 22
        }
      ]
    },
    {
      "cell_type": "code",
      "source": [
        "#Primera vista desde MRIcroGL, axial -XxYx118mm (XxYx118)\n",
        "import matplotlib.pyplot as plt\n",
        "import scipy.ndimage as ndi\n",
        "plt.imshow(ndi.rotate(P_data[:,:,118],-90), cmap='bone')\n",
        "plt.show()"
      ],
      "metadata": {
        "colab": {
          "base_uri": "https://localhost:8080/",
          "height": 435
        },
        "id": "PXbyoadrErPy",
        "outputId": "dd99efec-a79c-4002-a4a1-cbe1cbc7815d"
      },
      "execution_count": 90,
      "outputs": [
        {
          "output_type": "display_data",
          "data": {
            "text/plain": [
              "<Figure size 640x480 with 1 Axes>"
            ],
            "image/png": "[encoded data removed]"
          },
          "metadata": {}
        }
      ]
    },
    {
      "cell_type": "code",
      "source": [
        "# BINARIZACIÓN OPCIONAL\n",
        "#import nibabel as nib\n",
        "#import matplotlib.pyplot as plt\n",
        "#import numpy as np\n",
        "#import scipy.ndimage as ndi\n",
        "# Binarizar la imagen\n",
        "#threshold = 0.5  # Umbral para binarizar la imagen\n",
        "#binary_data = np.where(P_data >= threshold, 1, 0)\n",
        "\n",
        "# Crear un nuevo archivo NIfTI binarizado\n",
        "#binary_nifti = nib.Nifti1Image(binary_data, I.affine)\n",
        "\n",
        "# Guardar el archivo NIfTI binarizado\n",
        "#nib.save(binary_nifti, 'P_bin.nii.gz')\n",
        "\n",
        "#P = nib.load('P_bin.nii.gz')\n",
        "\n",
        "# Obtener los datos de la imagen\n",
        "#P_data = P.get_fdata()\n",
        "\n",
        "#plt.imshow(ndi.rotate(P_data[:,:,118],-90), cmap='bone')\n",
        "#plt.show()"
      ],
      "metadata": {
        "colab": {
          "base_uri": "https://localhost:8080/",
          "height": 435
        },
        "id": "lSLT2vh6E1E5",
        "outputId": "13a0620a-e52e-4483-d648-0b70cf3b9893"
      },
      "execution_count": 15,
      "outputs": [
        {
          "output_type": "display_data",
          "data": {
            "text/plain": [
              "<Figure size 640x480 with 1 Axes>"
            ],
            "image/png": "[encoded data removed]"
          },
          "metadata": {}
        }
      ]
    },
    {
      "cell_type": "code",
      "source": [
        "# Visualización de todas las slices del plano axial\n",
        "import matplotlib.pyplot as plt\n",
        "import scipy.ndimage as ndi\n",
        "fig_rows = 20\n",
        "fig_cols = 8\n",
        "n_subplots = 155\n",
        "n_slice = P_data.shape[2]\n",
        "step_size = n_slice // n_subplots\n",
        "plot_range = n_subplots * step_size\n",
        "start_stop = int((n_slice - plot_range) / 2)\n",
        "\n",
        "fig, axs = plt.subplots(fig_rows, fig_cols, figsize=[10, 10])\n",
        "\n",
        "for idx, img in enumerate(range(start_stop, plot_range, step_size)):\n",
        "    axs.flat[idx].imshow(ndi.rotate(P_data[:, :, img], 90), cmap='gray')\n",
        "    axs.flat[idx].axis('off')\n",
        "plt.tight_layout()\n",
        "plt.show()"
      ],
      "metadata": {
        "colab": {
          "base_uri": "https://localhost:8080/",
          "height": 1000
        },
        "id": "rJ03uF6HL64I",
        "outputId": "eda21f85-cf83-4756-fa95-88015a73090f"
      },
      "execution_count": 52,
      "outputs": [
        {
          "output_type": "display_data",
          "data": {
            "text/plain": [
              "<Figure size 1000x1000 with 160 Axes>"
            ],
            "image/png": "[encoded data removed]"
          },
          "metadata": {}
        }
      ]
    },
    {
      "cell_type": "code",
      "source": [
        "# Obtención del diámetro máximo sin pasar por 0\n",
        "import numpy as np\n",
        "\n",
        "# Obtener la slice deseada\n",
        "slice_index = 115  # Índice de la slice deseada\n",
        "slice_data = P_data[:, :, slice_index]\n",
        "\n",
        "# Obtener los voxels que no pasan por 0\n",
        "nonzero_voxels = np.nonzero(slice_data)\n",
        "\n",
        "# Calcular la distancia máxima entre los voxels no nulos\n",
        "max_distance1 = -np.inf\n",
        "max_distance_vector1 = None\n",
        "for i in range(len(nonzero_voxels[0])):\n",
        "    for j in range(i+1, len(nonzero_voxels[0])):\n",
        "        distance = np.sqrt((nonzero_voxels[0][i] - nonzero_voxels[0][j])**2 + (nonzero_voxels[1][i] - nonzero_voxels[1][j])**2)\n",
        "        # Comprobar si algún voxel en la distancia calculada pasa por cero\n",
        "        if np.any(slice_data[min(nonzero_voxels[0][i], nonzero_voxels[0][j]):max(nonzero_voxels[0][i], nonzero_voxels[0][j])+1,\n",
        "                        min(nonzero_voxels[1][i], nonzero_voxels[1][j]):max(nonzero_voxels[1][i], nonzero_voxels[1][j])+1] == 0):\n",
        "            continue\n",
        "        if distance > max_distance1:\n",
        "            max_distance1 = distance\n",
        "            max_distance_vector1 = [nonzero_voxels[0][i], nonzero_voxels[1][i]], [nonzero_voxels[0][j], nonzero_voxels[1][j]]\n",
        "\n",
        "# Imprimir la distancia máxima obtenida\n",
        "print(\"Distancia máxima entre voxels que no pasan por 0:\", max_distance1)\n",
        "print(\"Voxels que forman la distancia máxima:\", max_distance_vector1)\n",
        "\n",
        "import matplotlib.pyplot as plt\n",
        "\n",
        "# Dibujar la imagen de la slice\n",
        "plt.imshow(slice_data, cmap='gray')\n",
        "\n",
        "# Obtener las coordenadas de los voxels que forman la línea\n",
        "x1, y1 = max_distance_vector1[0]\n",
        "x2, y2 = max_distance_vector1[1]\n",
        "\n",
        "# Dibujar la línea entre los dos voxels\n",
        "plt.plot([y1, y2], [x1, x2], 'r')\n",
        "\n",
        "# Configurar los ejes y el título de la figura\n",
        "plt.axis('off')\n",
        "plt.title('Distancia Máxima y Línea entre Voxels')\n",
        "\n",
        "# Mostrar la figura\n",
        "plt.show()\n",
        "\n",
        "\n",
        "# Obtener la resolución espacial en milímetros\n",
        "resolucion = P.header.get_zooms()  # Se obtienen los valores de las dimensiones x, y, z\n",
        "print(\"Resolución espacial:\", resolucion)\n",
        "\n",
        "# Definir una distancia en voxels\n",
        "distancia_voxels1 = max_distance1 \n",
        "\n",
        "# Convertir la distancia de voxels a milímetros\n",
        "distancia_milimetros = distancia_voxels1 * resolucion[2]\n",
        "\n",
        "print(\"Distancia en milímetros:\", distancia_milimetros)"
      ],
      "metadata": {
        "colab": {
          "base_uri": "https://localhost:8080/",
          "height": 498
        },
        "id": "WDj5J_UUrakW",
        "outputId": "a48f7c50-b2cc-4a2d-ed0a-cfa5009065dd"
      },
      "execution_count": 16,
      "outputs": [
        {
          "output_type": "stream",
          "name": "stdout",
          "text": [
            "Distancia máxima entre voxels que no pasan por 0: 54.0\n",
            "Voxels que forman la distancia máxima: ([128, 67], [128, 121])\n"
          ]
        },
        {
          "output_type": "display_data",
          "data": {
            "text/plain": [
              "<Figure size 640x480 with 1 Axes>"
            ],
            "image/png": "[encoded data removed]"
          },
          "metadata": {}
        },
        {
          "output_type": "stream",
          "name": "stdout",
          "text": [
            "Resolución espacial: (1.0, 1.0, 1.0)\n",
            "Distancia en milímetros: 54.0\n"
          ]
        }
      ]
    },
    {
      "cell_type": "code",
      "source": [
        "# Obtención del diámetro máximo pasando por 0\n",
        "import nibabel as nib\n",
        "import numpy as np\n",
        "\n",
        "# Obtener la slice deseada\n",
        "slice_index = 115  # Índice de la slice deseada\n",
        "slice_data = P_data[:, :, slice_index]\n",
        "\n",
        "# Obtener los voxels que no pasan por 0\n",
        "nonzero_voxels = np.nonzero(slice_data)\n",
        "\n",
        "# Calcular la distancia máxima entre los voxels no nulos\n",
        "max_distance2 = -np.inf\n",
        "max_distance_vector2 = None\n",
        "for i in range(len(nonzero_voxels[0])):\n",
        "    for j in range(i+1, len(nonzero_voxels[0])):\n",
        "        distance = np.sqrt((nonzero_voxels[0][i] - nonzero_voxels[0][j])**2 + (nonzero_voxels[1][i] - nonzero_voxels[1][j])**2)\n",
        "        if distance > max_distance2:\n",
        "            max_distance2 = distance\n",
        "            max_distance_vector2 = [nonzero_voxels[0][i], nonzero_voxels[1][i]], [nonzero_voxels[0][j], nonzero_voxels[1][j]]\n",
        "# Imprimir la distancia máxima obtenida\n",
        "print(\"Distancia máxima entre voxels que no pasan por 0:\", max_distance2)\n",
        "print(\"Voxels que forman la distancia máxima:\", max_distance_vector2)\n",
        "\n",
        "\n",
        "import matplotlib.pyplot as plt\n",
        "\n",
        "# Dibujar la imagen de la slice\n",
        "plt.imshow(slice_data, cmap='gray')\n",
        "\n",
        "# Obtener las coordenadas de los voxels que forman la línea\n",
        "x1, y1 = max_distance_vector2[0]\n",
        "x2, y2 = max_distance_vector2[1]\n",
        "\n",
        "# Dibujar la línea entre los dos voxels\n",
        "plt.plot([y1, y2], [x1, x2], 'r')\n",
        "\n",
        "# Configurar los ejes y el título de la figura\n",
        "plt.axis('off')\n",
        "plt.title('Distancia Máxima y Línea entre Voxels')\n",
        "\n",
        "# Mostrar la figura\n",
        "plt.show()\n",
        "\n",
        "\n",
        "# Obtener la resolución espacial en milímetros\n",
        "resolucion = P.header.get_zooms()  # Se obtienen los valores de las dimensiones x, y, z\n",
        "print(\"Resolución espacial:\", resolucion)\n",
        "\n",
        "# Definir una distancia en voxels\n",
        "distancia_voxels2 = max_distance2 \n",
        "\n",
        "# Convertir la distancia de voxels a milímetros\n",
        "distancia_milimetros = distancia_voxels2 * resolucion[2]\n",
        "\n",
        "print(\"Distancia en milímetros:\", distancia_milimetros)"
      ],
      "metadata": {
        "colab": {
          "base_uri": "https://localhost:8080/",
          "height": 498
        },
        "id": "HOijTNJQGGCH",
        "outputId": "f4101803-cf06-415f-fcff-e6069d2af272"
      },
      "execution_count": 17,
      "outputs": [
        {
          "output_type": "stream",
          "name": "stdout",
          "text": [
            "Distancia máxima entre voxels que no pasan por 0: 75.29276193632427\n",
            "Voxels que forman la distancia máxima: ([126, 66], [164, 131])\n"
          ]
        },
        {
          "output_type": "display_data",
          "data": {
            "text/plain": [
              "<Figure size 640x480 with 1 Axes>"
            ],
            "image/png": "[encoded data removed]"
          },
          "metadata": {}
        },
        {
          "output_type": "stream",
          "name": "stdout",
          "text": [
            "Resolución espacial: (1.0, 1.0, 1.0)\n",
            "Distancia en milímetros: 75.29276193632427\n"
          ]
        }
      ]
    },
    {
      "cell_type": "code",
      "source": [
        "# Superposición con FLAIR\n",
        "import matplotlib.pyplot as plt\n",
        "\n",
        "# Dibujar la imagen de la slice\n",
        "slice_index1 = 115\n",
        "plt.imshow(F.get_fdata()[:, :, slice_index1], cmap='gray')\n",
        "\n",
        "# Obtener las coordenadas de los voxels que forman la línea\n",
        "x1, y1 = max_distance_vector2[0]\n",
        "x2, y2 = max_distance_vector2[1]\n",
        "z1, w1 = max_distance_vector1[0]\n",
        "z2, w2 = max_distance_vector1[1]\n",
        "\n",
        "# Dibujar la línea entre los dos voxels\n",
        "plt.plot([y1, y2], [x1, x2], 'r')\n",
        "plt.plot([w1, w2], [z1, z2], 'b')\n",
        "\n",
        "# Configurar los ejes y el título de la figura\n",
        "plt.axis('off')\n",
        "plt.title('Distancia Máxima y Línea entre Voxels')\n",
        "\n",
        "# Mostrar la figura\n",
        "plt.show()"
      ],
      "metadata": {
        "colab": {
          "base_uri": "https://localhost:8080/",
          "height": 429
        },
        "id": "UHp_YFYzcPLv",
        "outputId": "2a2fd101-92b3-4bff-8fd6-09938128051c"
      },
      "execution_count": 23,
      "outputs": [
        {
          "output_type": "display_data",
          "data": {
            "text/plain": [
              "<Figure size 640x480 with 1 Axes>"
            ],
            "image/png": "[encoded data removed]"
          },
          "metadata": {}
        }
      ]
    }
  ]
}